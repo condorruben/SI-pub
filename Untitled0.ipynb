{
  "nbformat": 4,
  "nbformat_minor": 0,
  "metadata": {
    "colab": {
      "name": "Untitled0.ipynb",
      "provenance": [],
      "collapsed_sections": [],
      "authorship_tag": "ABX9TyPuVHwnsLhD+HnCZLuitPRD",
      "include_colab_link": true
    },
    "kernelspec": {
      "name": "python3",
      "display_name": "Python 3"
    }
  },
  "cells": [
    {
      "cell_type": "markdown",
      "metadata": {
        "id": "view-in-github",
        "colab_type": "text"
      },
      "source": [
        "<a href=\"https://colab.research.google.com/github/condorruben/SI-pub/blob/master/Untitled0.ipynb\" target=\"_parent\"><img src=\"https://colab.research.google.com/assets/colab-badge.svg\" alt=\"Open In Colab\"/></a>"
      ]
    },
    {
      "cell_type": "code",
      "metadata": {
        "id": "eFOdi0Dpdrfz",
        "colab_type": "code",
        "colab": {}
      },
      "source": [
        "\n",
        "import numpy as np\n",
        "\"\"\" Perceptron \"\"\"\n",
        "def perceptron(weighted_inputs, bias):\n",
        "  sum = np.dot(\n",
        "      np.array(weighted_inputs[\"input\"]),\n",
        "      np.array(weighted_inputs[\"weight\"])\n",
        "  )\n",
        "  return True if sum > bias else False"
      ],
      "execution_count": 0,
      "outputs": []
    },
    {
      "cell_type": "code",
      "metadata": {
        "id": "8Ur-JpUveHyu",
        "colab_type": "code",
        "outputId": "4c412e16-f9ab-4681-d534-6902f11603e9",
        "colab": {
          "base_uri": "https://localhost:8080/",
          "height": 34
        }
      },
      "source": [
        "\"\"\" Go for a run \"\"\"\n",
        "# vreme_buna, chef, echipament, nu_am_fost_saptamana_asta\n",
        "weighted_inputs = {}\n",
        "weighted_inputs[\"input\"] = [1, 0, 1, 1]\n",
        "weighted_inputs[\"weight\"] = [3, 4, 2, 1]\n",
        "bias = 5\n",
        "\n",
        "print(\n",
        "    \"You should go!\" if perceptron(weighted_inputs, bias) \n",
        "    else \"We should not...\"\n",
        ")"
      ],
      "execution_count": 6,
      "outputs": [
        {
          "output_type": "stream",
          "text": [
            "We should go!\n"
          ],
          "name": "stdout"
        }
      ]
    },
    {
      "cell_type": "code",
      "metadata": {
        "id": "GJJESdAkihBf",
        "colab_type": "code",
        "outputId": "990f64df-6a3d-4002-8f18-9e7ed6c31b5a",
        "colab": {
          "base_uri": "https://localhost:8080/",
          "height": 85
        }
      },
      "source": [
        "\"\"\" AND Gate 1 Example \"\"\"\n",
        "weighted_inputs = {}\n",
        "values = [[0, 0], [0, 1], [1, 0], [1, 1]]\n",
        "weighted_inputs[\"weight\"] = [1, 1]\n",
        "bias = 1\n",
        "\n",
        "for value in values:\n",
        "  weighted_inputs[\"input\"] = value\n",
        "  print(str(value) + \": \" + \n",
        "    (\"1\" if perceptron(weighted_inputs, bias)\n",
        "    else \"0\")\n",
        "  )\n"
      ],
      "execution_count": 0,
      "outputs": [
        {
          "output_type": "stream",
          "text": [
            "[0, 0]: 0\n",
            "[0, 1]: 0\n",
            "[1, 0]: 0\n",
            "[1, 1]: 1\n"
          ],
          "name": "stdout"
        }
      ]
    },
    {
      "cell_type": "code",
      "metadata": {
        "id": "YeIvQf4Djg_o",
        "colab_type": "code",
        "colab": {}
      },
      "source": [
        "training_data = [[0, 0, 0], [0, 1, 0], [1, 0, 0], [1, 1, 1]]\n"
      ],
      "execution_count": 0,
      "outputs": []
    }
  ]
}